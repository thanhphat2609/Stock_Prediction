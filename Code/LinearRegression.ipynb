{
  "nbformat": 4,
  "nbformat_minor": 0,
  "metadata": {
    "colab": {
      "provenance": [],
      "toc_visible": true
    },
    "kernelspec": {
      "name": "python3",
      "display_name": "Python 3"
    },
    "language_info": {
      "name": "python"
    }
  },
  "cells": [
    {
      "cell_type": "markdown",
      "source": [
        "# **1. Import libraries and Create Spark Session** #"
      ],
      "metadata": {
        "id": "Sea_dUgXJlFW"
      }
    },
    {
      "cell_type": "code",
      "execution_count": 85,
      "metadata": {
        "id": "igNNeO9LGuZF"
      },
      "outputs": [],
      "source": [
        "from pyspark.conf import SparkConf\n",
        "from pyspark.sql import SparkSession, Row\n",
        "from pyspark.ml.regression import LinearRegression\n",
        "from pyspark.ml.feature import VectorAssembler\n",
        "from pyspark.ml.linalg import Vectors\n",
        "from pyspark.sql.functions import max, udf\n",
        "from pyspark.sql.types import DateType\n",
        "import datetime\n",
        "\n",
        "\n",
        "# Create Spark Session\n",
        "spark = SparkSession.builder.appName(\"LinearRegressio\").getOrCreate()"
      ]
    },
    {
      "cell_type": "markdown",
      "source": [
        "# **2. Read and show data** #"
      ],
      "metadata": {
        "id": "ilB70IOhNuyu"
      }
    },
    {
      "cell_type": "code",
      "source": [
        "df_vcb = spark.read.csv(\"/home/thanhphat/Download/part-00000-c4693ad4-e240-46cd-aa9a-32d5b0bf423d-c000.csv\", header = True, inferSchema = True)\n",
        "df_vcb.show(10)"
      ],
      "metadata": {
        "colab": {
          "base_uri": "https://localhost:8080/"
        },
        "id": "aNjZZ8QtI2D1",
        "outputId": "250510cf-1e91-4e67-b2e3-8078703a7836"
      },
      "execution_count": 86,
      "outputs": [
        {
          "output_type": "stream",
          "name": "stdout",
          "text": [
            "+----------+--------+-------+-------+----+----+\n",
            "|      Date|Ajusting|Closing|Opening|High| Low|\n",
            "+----------+--------+-------+-------+----+----+\n",
            "|31/12/2015|   23.45|   43.9|   43.9|44.5|43.8|\n",
            "|30/12/2015|   23.66|   44.3|   44.3|44.9|43.9|\n",
            "|29/12/2015|    23.5|   44.0|   42.5|44.1|42.4|\n",
            "|28/12/2015|    22.7|   42.5|   42.8|43.0|42.5|\n",
            "|25/12/2015|    22.7|   42.5|   42.3|42.9|42.2|\n",
            "|24/12/2015|   22.54|   42.2|   42.6|42.8|42.2|\n",
            "|23/12/2015|   22.65|   42.4|   42.1|42.6|42.0|\n",
            "|22/12/2015|    22.7|   42.5|   42.7|42.9|42.3|\n",
            "|21/12/2015|    22.7|   42.5|   42.0|42.5|42.0|\n",
            "|18/12/2015|    22.0|   41.2|   43.5|44.1|41.2|\n",
            "+----------+--------+-------+-------+----+----+\n",
            "only showing top 10 rows\n",
            "\n"
          ]
        }
      ]
    },
    {
      "cell_type": "code",
      "source": [
        "df_vcb.printSchema()"
      ],
      "metadata": {
        "colab": {
          "base_uri": "https://localhost:8080/"
        },
        "id": "TpgGKrlhJI5u",
        "outputId": "2dd27329-35ce-4439-c4b0-f10784419ec3"
      },
      "execution_count": 87,
      "outputs": [
        {
          "output_type": "stream",
          "name": "stdout",
          "text": [
            "root\n",
            " |-- Date: string (nullable = true)\n",
            " |-- Ajusting: double (nullable = true)\n",
            " |-- Closing: double (nullable = true)\n",
            " |-- Opening: double (nullable = true)\n",
            " |-- High: double (nullable = true)\n",
            " |-- Low: double (nullable = true)\n",
            "\n"
          ]
        }
      ]
    },
    {
      "cell_type": "markdown",
      "source": [
        "# **3. Model Definition** #"
      ],
      "metadata": {
        "id": "r0oCH-4-OsR6"
      }
    },
    {
      "cell_type": "markdown",
      "source": [
        "## 3.1. Create features, target and train test data ##"
      ],
      "metadata": {
        "id": "_Sg-S-0ZZ7lG"
      }
    },
    {
      "cell_type": "code",
      "source": [
        "assembler = VectorAssembler(\n",
        "    inputCols=[\"Ajusting\", \"Opening\", \"High\", \"Low\"],\n",
        "    outputCol=\"features\")\n",
        "\n",
        "data_vcb = assembler.transform(df_vcb)\n",
        "\n",
        "# Apply vector\n",
        "final_vcb = data_vcb.select(\"features\", \"Closing\")"
      ],
      "metadata": {
        "id": "ZVl3ZaHkOqZH"
      },
      "execution_count": 88,
      "outputs": []
    },
    {
      "cell_type": "code",
      "source": [
        "train_data, test_data = final_vcb.randomSplit([0.8, 0.2], seed=42)"
      ],
      "metadata": {
        "id": "PlBX3PjjWzrA"
      },
      "execution_count": 89,
      "outputs": []
    },
    {
      "cell_type": "code",
      "source": [
        "train_data.show(10)"
      ],
      "metadata": {
        "colab": {
          "base_uri": "https://localhost:8080/"
        },
        "id": "s9vVn_t2ZG5h",
        "outputId": "a5680e9f-939b-4bd5-db69-c9bfb39e7da0"
      },
      "execution_count": 90,
      "outputs": [
        {
          "output_type": "stream",
          "name": "stdout",
          "text": [
            "+--------------------+-------+\n",
            "|            features|Closing|\n",
            "+--------------------+-------+\n",
            "|[16.67,31.7,32.1,...|   31.9|\n",
            "|[17.3,32.5,33.3,3...|   33.1|\n",
            "|[17.56,34.1,34.6,...|   33.6|\n",
            "|[17.77,31.9,34.0,...|   34.0|\n",
            "|[18.09,33.7,35.0,...|   34.6|\n",
            "|[18.3,34.9,35.7,3...|   35.0|\n",
            "|[18.35,35.1,35.5,...|   35.1|\n",
            "|[18.35,35.1,35.6,...|   35.1|\n",
            "|[18.4,35.3,36.2,3...|   35.2|\n",
            "|[18.45,35.0,35.4,...|   35.3|\n",
            "+--------------------+-------+\n",
            "only showing top 10 rows\n",
            "\n"
          ]
        }
      ]
    },
    {
      "cell_type": "code",
      "source": [
        "test_data.show(10)"
      ],
      "metadata": {
        "colab": {
          "base_uri": "https://localhost:8080/"
        },
        "id": "iuP2anWoZMue",
        "outputId": "fa3dfc49-0a42-4e2d-ec03-f1928a9b42f5"
      },
      "execution_count": 91,
      "outputs": [
        {
          "output_type": "stream",
          "name": "stdout",
          "text": [
            "+--------------------+-------+\n",
            "|            features|Closing|\n",
            "+--------------------+-------+\n",
            "|[17.41,35.6,35.8,...|   33.3|\n",
            "|[18.24,33.5,35.0,...|   34.9|\n",
            "|[18.3,35.1,35.3,3...|   35.0|\n",
            "|[18.45,35.0,35.6,...|   35.3|\n",
            "|[18.56,35.6,35.6,...|   35.5|\n",
            "|[18.66,35.5,36.1,...|   35.7|\n",
            "|[18.71,35.6,35.9,...|   35.8|\n",
            "|[18.92,35.8,36.7,...|   36.2|\n",
            "|[19.08,36.8,36.9,...|   36.5|\n",
            "|[19.13,36.3,36.7,...|   36.6|\n",
            "+--------------------+-------+\n",
            "only showing top 10 rows\n",
            "\n"
          ]
        }
      ]
    },
    {
      "cell_type": "code",
      "source": [
        "# Build model\n",
        "lr = LinearRegression(featuresCol = \"features\", labelCol=\"Closing\", predictionCol=\"predicted_closing\")\n",
        "\n",
        "lr_model = lr.fit(train_data)"
      ],
      "metadata": {
        "id": "sGZvux0SXFzE"
      },
      "execution_count": 92,
      "outputs": []
    },
    {
      "cell_type": "markdown",
      "source": [
        "## 3.2. Predict ##"
      ],
      "metadata": {
        "id": "WXK4x5iKZ1Ch"
      }
    },
    {
      "cell_type": "code",
      "source": [
        "predictions = lr_model.transform(test_data)"
      ],
      "metadata": {
        "id": "fdsetyQ0Zuu4"
      },
      "execution_count": 93,
      "outputs": []
    },
    {
      "cell_type": "code",
      "source": [
        "predictions.show(10)"
      ],
      "metadata": {
        "colab": {
          "base_uri": "https://localhost:8080/"
        },
        "id": "oMwvvngyaDPQ",
        "outputId": "0336f695-3c6e-40a4-f69f-8d689441242c"
      },
      "execution_count": 94,
      "outputs": [
        {
          "output_type": "stream",
          "name": "stdout",
          "text": [
            "+--------------------+-------+------------------+\n",
            "|            features|Closing| predicted_closing|\n",
            "+--------------------+-------+------------------+\n",
            "|[17.41,35.6,35.8,...|   33.3| 34.21137375701764|\n",
            "|[18.24,33.5,35.0,...|   34.9| 34.53260019587356|\n",
            "|[18.3,35.1,35.3,3...|   35.0|  34.9158037417087|\n",
            "|[18.45,35.0,35.6,...|   35.3| 35.25365279752606|\n",
            "|[18.56,35.6,35.6,...|   35.5| 35.25627667660775|\n",
            "|[18.66,35.5,36.1,...|   35.7| 35.75230840569804|\n",
            "|[18.71,35.6,35.9,...|   35.8|35.494671077255646|\n",
            "|[18.92,35.8,36.7,...|   36.2|  36.1700556863158|\n",
            "|[19.08,36.8,36.9,...|   36.5| 36.47246522659555|\n",
            "|[19.13,36.3,36.7,...|   36.6| 36.45227339106082|\n",
            "+--------------------+-------+------------------+\n",
            "only showing top 10 rows\n",
            "\n"
          ]
        }
      ]
    },
    {
      "cell_type": "markdown",
      "source": [
        "## 3.3. Visualization predict on test ##"
      ],
      "metadata": {
        "id": "LsPG07Uea4iy"
      }
    },
    {
      "cell_type": "markdown",
      "source": [
        "# **4. Calculate Performace** #"
      ],
      "metadata": {
        "id": "cl_dQh55aO7Y"
      }
    },
    {
      "cell_type": "code",
      "source": [
        "evaluator = RegressionEvaluator(labelCol=\"Closing\", predictionCol=\"predicted_closing\", metricName=\"rmse\")\n",
        "rmse = evaluator.evaluate(predictions)\n",
        "print(\"Root Mean Squared Error (RMSE) on test data: {:.3f}\".format(rmse))\n",
        "\n",
        "evaluator_r2 = RegressionEvaluator(labelCol=\"Closing\", predictionCol=\"predicted_closing\", metricName=\"r2\")\n",
        "r2 = evaluator_r2.evaluate(predictions)\n",
        "print(\"R-squared (R2) on test data: {:.3f}\".format(r2))"
      ],
      "metadata": {
        "colab": {
          "base_uri": "https://localhost:8080/"
        },
        "id": "burb59yMaJ5f",
        "outputId": "fb307989-adbb-45ac-8ace-ce80bdd163db"
      },
      "execution_count": 95,
      "outputs": [
        {
          "output_type": "stream",
          "name": "stdout",
          "text": [
            "Root Mean Squared Error (RMSE) on test data: 0.649\n",
            "R-squared (R2) on test data: 0.999\n"
          ]
        }
      ]
    }
  ]
}